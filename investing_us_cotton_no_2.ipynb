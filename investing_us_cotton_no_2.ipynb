{
  "nbformat": 4,
  "nbformat_minor": 0,
  "metadata": {
    "colab": {
      "name": "investing_us_cotton_no_2.ipynb",
      "provenance": [],
      "authorship_tag": "ABX9TyMypcrgQhr9Hu7og12NIHj5",
      "include_colab_link": true
    },
    "kernelspec": {
      "name": "python3",
      "display_name": "Python 3"
    },
    "language_info": {
      "name": "python"
    },
    "accelerator": "GPU"
  },
  "cells": [
    {
      "cell_type": "markdown",
      "metadata": {
        "id": "view-in-github",
        "colab_type": "text"
      },
      "source": [
        "<a href=\"https://colab.research.google.com/github/mekilic7/Colab/blob/main/investing_us_cotton_no_2.ipynb\" target=\"_parent\"><img src=\"https://colab.research.google.com/assets/colab-badge.svg\" alt=\"Open In Colab\"/></a>"
      ]
    },
    {
      "cell_type": "code",
      "metadata": {
        "colab": {
          "base_uri": "https://localhost:8080/",
          "height": 1000
        },
        "id": "XyBCI0XoDpwS",
        "outputId": "fdffbd62-9ee5-4f76-ee33-81066fc15b94"
      },
      "source": [
        "!pip install gdown\n",
        "!pip install tensorflow-gpu"
      ],
      "execution_count": 65,
      "outputs": [
        {
          "output_type": "stream",
          "name": "stdout",
          "text": [
            "Requirement already satisfied: gdown in /usr/local/lib/python3.7/dist-packages (3.6.4)\n",
            "Requirement already satisfied: six in /usr/local/lib/python3.7/dist-packages (from gdown) (1.15.0)\n",
            "Requirement already satisfied: requests in /usr/local/lib/python3.7/dist-packages (from gdown) (2.23.0)\n",
            "Requirement already satisfied: tqdm in /usr/local/lib/python3.7/dist-packages (from gdown) (4.62.3)\n",
            "Requirement already satisfied: chardet<4,>=3.0.2 in /usr/local/lib/python3.7/dist-packages (from requests->gdown) (3.0.4)\n",
            "Requirement already satisfied: urllib3!=1.25.0,!=1.25.1,<1.26,>=1.21.1 in /usr/local/lib/python3.7/dist-packages (from requests->gdown) (1.24.3)\n",
            "Requirement already satisfied: certifi>=2017.4.17 in /usr/local/lib/python3.7/dist-packages (from requests->gdown) (2021.10.8)\n",
            "Requirement already satisfied: idna<3,>=2.5 in /usr/local/lib/python3.7/dist-packages (from requests->gdown) (2.10)\n",
            "Collecting tensorflow-gpu\n",
            "  Downloading tensorflow_gpu-2.7.0-cp37-cp37m-manylinux2010_x86_64.whl (489.6 MB)\n",
            "\u001b[K     |████████████████████████████████| 489.6 MB 4.6 kB/s \n",
            "\u001b[?25hRequirement already satisfied: libclang>=9.0.1 in /usr/local/lib/python3.7/dist-packages (from tensorflow-gpu) (12.0.0)\n",
            "Requirement already satisfied: flatbuffers<3.0,>=1.12 in /usr/local/lib/python3.7/dist-packages (from tensorflow-gpu) (2.0)\n",
            "Requirement already satisfied: wrapt>=1.11.0 in /usr/local/lib/python3.7/dist-packages (from tensorflow-gpu) (1.13.3)\n",
            "Requirement already satisfied: absl-py>=0.4.0 in /usr/local/lib/python3.7/dist-packages (from tensorflow-gpu) (0.12.0)\n",
            "Requirement already satisfied: six>=1.12.0 in /usr/local/lib/python3.7/dist-packages (from tensorflow-gpu) (1.15.0)\n",
            "Requirement already satisfied: gast<0.5.0,>=0.2.1 in /usr/local/lib/python3.7/dist-packages (from tensorflow-gpu) (0.4.0)\n",
            "Requirement already satisfied: termcolor>=1.1.0 in /usr/local/lib/python3.7/dist-packages (from tensorflow-gpu) (1.1.0)\n",
            "Requirement already satisfied: numpy>=1.14.5 in /usr/local/lib/python3.7/dist-packages (from tensorflow-gpu) (1.19.5)\n",
            "Requirement already satisfied: astunparse>=1.6.0 in /usr/local/lib/python3.7/dist-packages (from tensorflow-gpu) (1.6.3)\n",
            "Requirement already satisfied: wheel<1.0,>=0.32.0 in /usr/local/lib/python3.7/dist-packages (from tensorflow-gpu) (0.37.0)\n",
            "Requirement already satisfied: tensorboard~=2.6 in /usr/local/lib/python3.7/dist-packages (from tensorflow-gpu) (2.7.0)\n",
            "Requirement already satisfied: h5py>=2.9.0 in /usr/local/lib/python3.7/dist-packages (from tensorflow-gpu) (3.1.0)\n",
            "Requirement already satisfied: protobuf>=3.9.2 in /usr/local/lib/python3.7/dist-packages (from tensorflow-gpu) (3.17.3)\n",
            "Requirement already satisfied: keras<2.8,>=2.7.0rc0 in /usr/local/lib/python3.7/dist-packages (from tensorflow-gpu) (2.7.0)\n",
            "Requirement already satisfied: tensorflow-estimator<2.8,~=2.7.0rc0 in /usr/local/lib/python3.7/dist-packages (from tensorflow-gpu) (2.7.0)\n",
            "Requirement already satisfied: grpcio<2.0,>=1.24.3 in /usr/local/lib/python3.7/dist-packages (from tensorflow-gpu) (1.41.1)\n",
            "Requirement already satisfied: opt-einsum>=2.3.2 in /usr/local/lib/python3.7/dist-packages (from tensorflow-gpu) (3.3.0)\n",
            "Requirement already satisfied: tensorflow-io-gcs-filesystem>=0.21.0 in /usr/local/lib/python3.7/dist-packages (from tensorflow-gpu) (0.22.0)\n",
            "Requirement already satisfied: keras-preprocessing>=1.1.1 in /usr/local/lib/python3.7/dist-packages (from tensorflow-gpu) (1.1.2)\n",
            "Requirement already satisfied: google-pasta>=0.1.1 in /usr/local/lib/python3.7/dist-packages (from tensorflow-gpu) (0.2.0)\n",
            "Requirement already satisfied: typing-extensions>=3.6.6 in /usr/local/lib/python3.7/dist-packages (from tensorflow-gpu) (3.10.0.2)\n",
            "Requirement already satisfied: cached-property in /usr/local/lib/python3.7/dist-packages (from h5py>=2.9.0->tensorflow-gpu) (1.5.2)\n",
            "Requirement already satisfied: google-auth-oauthlib<0.5,>=0.4.1 in /usr/local/lib/python3.7/dist-packages (from tensorboard~=2.6->tensorflow-gpu) (0.4.6)\n",
            "Requirement already satisfied: google-auth<3,>=1.6.3 in /usr/local/lib/python3.7/dist-packages (from tensorboard~=2.6->tensorflow-gpu) (1.35.0)\n",
            "Requirement already satisfied: tensorboard-data-server<0.7.0,>=0.6.0 in /usr/local/lib/python3.7/dist-packages (from tensorboard~=2.6->tensorflow-gpu) (0.6.1)\n",
            "Requirement already satisfied: setuptools>=41.0.0 in /usr/local/lib/python3.7/dist-packages (from tensorboard~=2.6->tensorflow-gpu) (57.4.0)\n",
            "Requirement already satisfied: markdown>=2.6.8 in /usr/local/lib/python3.7/dist-packages (from tensorboard~=2.6->tensorflow-gpu) (3.3.4)\n",
            "Requirement already satisfied: werkzeug>=0.11.15 in /usr/local/lib/python3.7/dist-packages (from tensorboard~=2.6->tensorflow-gpu) (1.0.1)\n",
            "Requirement already satisfied: tensorboard-plugin-wit>=1.6.0 in /usr/local/lib/python3.7/dist-packages (from tensorboard~=2.6->tensorflow-gpu) (1.8.0)\n",
            "Requirement already satisfied: requests<3,>=2.21.0 in /usr/local/lib/python3.7/dist-packages (from tensorboard~=2.6->tensorflow-gpu) (2.23.0)\n",
            "Requirement already satisfied: rsa<5,>=3.1.4 in /usr/local/lib/python3.7/dist-packages (from google-auth<3,>=1.6.3->tensorboard~=2.6->tensorflow-gpu) (4.7.2)\n",
            "Requirement already satisfied: pyasn1-modules>=0.2.1 in /usr/local/lib/python3.7/dist-packages (from google-auth<3,>=1.6.3->tensorboard~=2.6->tensorflow-gpu) (0.2.8)\n",
            "Requirement already satisfied: cachetools<5.0,>=2.0.0 in /usr/local/lib/python3.7/dist-packages (from google-auth<3,>=1.6.3->tensorboard~=2.6->tensorflow-gpu) (4.2.4)\n",
            "Requirement already satisfied: requests-oauthlib>=0.7.0 in /usr/local/lib/python3.7/dist-packages (from google-auth-oauthlib<0.5,>=0.4.1->tensorboard~=2.6->tensorflow-gpu) (1.3.0)\n",
            "Requirement already satisfied: importlib-metadata in /usr/local/lib/python3.7/dist-packages (from markdown>=2.6.8->tensorboard~=2.6->tensorflow-gpu) (4.8.2)\n",
            "Requirement already satisfied: pyasn1<0.5.0,>=0.4.6 in /usr/local/lib/python3.7/dist-packages (from pyasn1-modules>=0.2.1->google-auth<3,>=1.6.3->tensorboard~=2.6->tensorflow-gpu) (0.4.8)\n",
            "Requirement already satisfied: idna<3,>=2.5 in /usr/local/lib/python3.7/dist-packages (from requests<3,>=2.21.0->tensorboard~=2.6->tensorflow-gpu) (2.10)\n",
            "Requirement already satisfied: chardet<4,>=3.0.2 in /usr/local/lib/python3.7/dist-packages (from requests<3,>=2.21.0->tensorboard~=2.6->tensorflow-gpu) (3.0.4)\n",
            "Requirement already satisfied: urllib3!=1.25.0,!=1.25.1,<1.26,>=1.21.1 in /usr/local/lib/python3.7/dist-packages (from requests<3,>=2.21.0->tensorboard~=2.6->tensorflow-gpu) (1.24.3)\n",
            "Requirement already satisfied: certifi>=2017.4.17 in /usr/local/lib/python3.7/dist-packages (from requests<3,>=2.21.0->tensorboard~=2.6->tensorflow-gpu) (2021.10.8)\n",
            "Requirement already satisfied: oauthlib>=3.0.0 in /usr/local/lib/python3.7/dist-packages (from requests-oauthlib>=0.7.0->google-auth-oauthlib<0.5,>=0.4.1->tensorboard~=2.6->tensorflow-gpu) (3.1.1)\n",
            "Requirement already satisfied: zipp>=0.5 in /usr/local/lib/python3.7/dist-packages (from importlib-metadata->markdown>=2.6.8->tensorboard~=2.6->tensorflow-gpu) (3.6.0)\n",
            "Installing collected packages: tensorflow-gpu\n",
            "Successfully installed tensorflow-gpu-2.7.0\n"
          ]
        },
        {
          "output_type": "display_data",
          "data": {
            "application/vnd.colab-display-data+json": {
              "pip_warning": {
                "packages": [
                  "tensorflow"
                ]
              }
            }
          },
          "metadata": {}
        }
      ]
    },
    {
      "cell_type": "code",
      "metadata": {
        "id": "mb-vGwhCO-Gn"
      },
      "source": [
        "import pandas as pd\n",
        "import numpy as np\n",
        "from keras.models import Sequential\n",
        "from keras.layers import Dense, LSTM,Dropout\n",
        "import matplotlib.pyplot as plt\n",
        "import random\n",
        "from sklearn.preprocessing import MinMaxScaler"
      ],
      "execution_count": 1,
      "outputs": []
    },
    {
      "cell_type": "code",
      "metadata": {
        "id": "2vN4jZCYUX-J"
      },
      "source": [
        "df_ = pd.read_csv('/content/investing_us_cotton_no_2.csv')"
      ],
      "execution_count": 13,
      "outputs": []
    },
    {
      "cell_type": "code",
      "metadata": {
        "colab": {
          "base_uri": "https://localhost:8080/"
        },
        "id": "ZB849oJM8_s4",
        "outputId": "dd5928fd-bd09-4196-853b-75e6ff7fce78"
      },
      "source": [
        "df_.info()\n",
        "df_['Şimdi'] = df_['Şimdi'].str.replace(',','.')"
      ],
      "execution_count": 14,
      "outputs": [
        {
          "output_type": "stream",
          "name": "stdout",
          "text": [
            "<class 'pandas.core.frame.DataFrame'>\n",
            "RangeIndex: 3113 entries, 0 to 3112\n",
            "Data columns (total 7 columns):\n",
            " #   Column  Non-Null Count  Dtype \n",
            "---  ------  --------------  ----- \n",
            " 0   Tarih   3113 non-null   object\n",
            " 1   Şimdi   3113 non-null   object\n",
            " 2   Açılış  3113 non-null   object\n",
            " 3   Yüksek  3113 non-null   object\n",
            " 4   Düşük   3113 non-null   object\n",
            " 5   Hac.    3113 non-null   object\n",
            " 6   Fark %  3113 non-null   object\n",
            "dtypes: object(7)\n",
            "memory usage: 170.4+ KB\n"
          ]
        }
      ]
    },
    {
      "cell_type": "code",
      "metadata": {
        "id": "OpAo4UnD9aWk"
      },
      "source": [
        "df_['Şimdi'] = df_['Şimdi'].astype(float, errors = 'raise')"
      ],
      "execution_count": 15,
      "outputs": []
    },
    {
      "cell_type": "code",
      "metadata": {
        "id": "B1Qe42R19HI0"
      },
      "source": [
        ""
      ],
      "execution_count": null,
      "outputs": []
    },
    {
      "cell_type": "code",
      "metadata": {
        "colab": {
          "base_uri": "https://localhost:8080/",
          "height": 204
        },
        "id": "JyQGlHzeUX6q",
        "outputId": "ddeea783-1e39-49d6-c210-ecb3aceed0c3"
      },
      "source": [
        "df_.head()"
      ],
      "execution_count": 16,
      "outputs": [
        {
          "output_type": "execute_result",
          "data": {
            "text/html": [
              "<div>\n",
              "<style scoped>\n",
              "    .dataframe tbody tr th:only-of-type {\n",
              "        vertical-align: middle;\n",
              "    }\n",
              "\n",
              "    .dataframe tbody tr th {\n",
              "        vertical-align: top;\n",
              "    }\n",
              "\n",
              "    .dataframe thead th {\n",
              "        text-align: right;\n",
              "    }\n",
              "</style>\n",
              "<table border=\"1\" class=\"dataframe\">\n",
              "  <thead>\n",
              "    <tr style=\"text-align: right;\">\n",
              "      <th></th>\n",
              "      <th>Tarih</th>\n",
              "      <th>Şimdi</th>\n",
              "      <th>Açılış</th>\n",
              "      <th>Yüksek</th>\n",
              "      <th>Düşük</th>\n",
              "      <th>Hac.</th>\n",
              "      <th>Fark %</th>\n",
              "    </tr>\n",
              "  </thead>\n",
              "  <tbody>\n",
              "    <tr>\n",
              "      <th>0</th>\n",
              "      <td>17.11.2021</td>\n",
              "      <td>118.30</td>\n",
              "      <td>117,82</td>\n",
              "      <td>118,78</td>\n",
              "      <td>117,61</td>\n",
              "      <td>-</td>\n",
              "      <td>0,46%</td>\n",
              "    </tr>\n",
              "    <tr>\n",
              "      <th>1</th>\n",
              "      <td>16.11.2021</td>\n",
              "      <td>117.76</td>\n",
              "      <td>117,78</td>\n",
              "      <td>118,34</td>\n",
              "      <td>117,11</td>\n",
              "      <td>-</td>\n",
              "      <td>0,08%</td>\n",
              "    </tr>\n",
              "    <tr>\n",
              "      <th>2</th>\n",
              "      <td>15.11.2021</td>\n",
              "      <td>117.67</td>\n",
              "      <td>117,73</td>\n",
              "      <td>118,18</td>\n",
              "      <td>116,51</td>\n",
              "      <td>-</td>\n",
              "      <td>0,06%</td>\n",
              "    </tr>\n",
              "    <tr>\n",
              "      <th>3</th>\n",
              "      <td>12.11.2021</td>\n",
              "      <td>117.60</td>\n",
              "      <td>118,62</td>\n",
              "      <td>118,91</td>\n",
              "      <td>116,67</td>\n",
              "      <td>-</td>\n",
              "      <td>-0,84%</td>\n",
              "    </tr>\n",
              "    <tr>\n",
              "      <th>4</th>\n",
              "      <td>11.11.2021</td>\n",
              "      <td>118.60</td>\n",
              "      <td>118,89</td>\n",
              "      <td>119,19</td>\n",
              "      <td>117,58</td>\n",
              "      <td>-</td>\n",
              "      <td>-0,13%</td>\n",
              "    </tr>\n",
              "  </tbody>\n",
              "</table>\n",
              "</div>"
            ],
            "text/plain": [
              "        Tarih   Şimdi  Açılış  Yüksek   Düşük Hac.  Fark %\n",
              "0  17.11.2021  118.30  117,82  118,78  117,61    -   0,46%\n",
              "1  16.11.2021  117.76  117,78  118,34  117,11    -   0,08%\n",
              "2  15.11.2021  117.67  117,73  118,18  116,51    -   0,06%\n",
              "3  12.11.2021  117.60  118,62  118,91  116,67    -  -0,84%\n",
              "4  11.11.2021  118.60  118,89  119,19  117,58    -  -0,13%"
            ]
          },
          "metadata": {},
          "execution_count": 16
        }
      ]
    },
    {
      "cell_type": "code",
      "metadata": {
        "id": "9f0AeTIDUX3t"
      },
      "source": [
        "df = df_[[\"Tarih\",\"Şimdi\"]]"
      ],
      "execution_count": 17,
      "outputs": []
    },
    {
      "cell_type": "code",
      "metadata": {
        "colab": {
          "base_uri": "https://localhost:8080/",
          "height": 204
        },
        "id": "neA1X2OUUXzP",
        "outputId": "93c0d071-6d82-45de-86d4-985289de52c8"
      },
      "source": [
        "df.head()"
      ],
      "execution_count": 18,
      "outputs": [
        {
          "output_type": "execute_result",
          "data": {
            "text/html": [
              "<div>\n",
              "<style scoped>\n",
              "    .dataframe tbody tr th:only-of-type {\n",
              "        vertical-align: middle;\n",
              "    }\n",
              "\n",
              "    .dataframe tbody tr th {\n",
              "        vertical-align: top;\n",
              "    }\n",
              "\n",
              "    .dataframe thead th {\n",
              "        text-align: right;\n",
              "    }\n",
              "</style>\n",
              "<table border=\"1\" class=\"dataframe\">\n",
              "  <thead>\n",
              "    <tr style=\"text-align: right;\">\n",
              "      <th></th>\n",
              "      <th>Tarih</th>\n",
              "      <th>Şimdi</th>\n",
              "    </tr>\n",
              "  </thead>\n",
              "  <tbody>\n",
              "    <tr>\n",
              "      <th>0</th>\n",
              "      <td>17.11.2021</td>\n",
              "      <td>118.30</td>\n",
              "    </tr>\n",
              "    <tr>\n",
              "      <th>1</th>\n",
              "      <td>16.11.2021</td>\n",
              "      <td>117.76</td>\n",
              "    </tr>\n",
              "    <tr>\n",
              "      <th>2</th>\n",
              "      <td>15.11.2021</td>\n",
              "      <td>117.67</td>\n",
              "    </tr>\n",
              "    <tr>\n",
              "      <th>3</th>\n",
              "      <td>12.11.2021</td>\n",
              "      <td>117.60</td>\n",
              "    </tr>\n",
              "    <tr>\n",
              "      <th>4</th>\n",
              "      <td>11.11.2021</td>\n",
              "      <td>118.60</td>\n",
              "    </tr>\n",
              "  </tbody>\n",
              "</table>\n",
              "</div>"
            ],
            "text/plain": [
              "        Tarih   Şimdi\n",
              "0  17.11.2021  118.30\n",
              "1  16.11.2021  117.76\n",
              "2  15.11.2021  117.67\n",
              "3  12.11.2021  117.60\n",
              "4  11.11.2021  118.60"
            ]
          },
          "metadata": {},
          "execution_count": 18
        }
      ]
    },
    {
      "cell_type": "code",
      "metadata": {
        "id": "Hn4xBqbKYqC7"
      },
      "source": [
        "df.columns = [\"Date\",\"Price\"]"
      ],
      "execution_count": 19,
      "outputs": []
    },
    {
      "cell_type": "code",
      "metadata": {
        "colab": {
          "base_uri": "https://localhost:8080/"
        },
        "id": "v4tZ3LtK47Dk",
        "outputId": "b5f7905a-4784-4d05-d0e0-50dd54e886b7"
      },
      "source": [
        "df.info()"
      ],
      "execution_count": 20,
      "outputs": [
        {
          "output_type": "stream",
          "name": "stdout",
          "text": [
            "<class 'pandas.core.frame.DataFrame'>\n",
            "RangeIndex: 3113 entries, 0 to 3112\n",
            "Data columns (total 2 columns):\n",
            " #   Column  Non-Null Count  Dtype  \n",
            "---  ------  --------------  -----  \n",
            " 0   Date    3113 non-null   object \n",
            " 1   Price   3113 non-null   float64\n",
            "dtypes: float64(1), object(1)\n",
            "memory usage: 48.8+ KB\n"
          ]
        }
      ]
    },
    {
      "cell_type": "code",
      "metadata": {
        "colab": {
          "base_uri": "https://localhost:8080/",
          "height": 204
        },
        "id": "AbjR_E9W47A8",
        "outputId": "6d787948-e264-4c1c-b6cd-bb02e6e2f188"
      },
      "source": [
        "df.head()"
      ],
      "execution_count": 42,
      "outputs": [
        {
          "output_type": "execute_result",
          "data": {
            "text/html": [
              "<div>\n",
              "<style scoped>\n",
              "    .dataframe tbody tr th:only-of-type {\n",
              "        vertical-align: middle;\n",
              "    }\n",
              "\n",
              "    .dataframe tbody tr th {\n",
              "        vertical-align: top;\n",
              "    }\n",
              "\n",
              "    .dataframe thead th {\n",
              "        text-align: right;\n",
              "    }\n",
              "</style>\n",
              "<table border=\"1\" class=\"dataframe\">\n",
              "  <thead>\n",
              "    <tr style=\"text-align: right;\">\n",
              "      <th></th>\n",
              "      <th>Date</th>\n",
              "      <th>Price</th>\n",
              "    </tr>\n",
              "  </thead>\n",
              "  <tbody>\n",
              "    <tr>\n",
              "      <th>0</th>\n",
              "      <td>17.11.2021</td>\n",
              "      <td>118.30</td>\n",
              "    </tr>\n",
              "    <tr>\n",
              "      <th>1</th>\n",
              "      <td>16.11.2021</td>\n",
              "      <td>117.76</td>\n",
              "    </tr>\n",
              "    <tr>\n",
              "      <th>2</th>\n",
              "      <td>15.11.2021</td>\n",
              "      <td>117.67</td>\n",
              "    </tr>\n",
              "    <tr>\n",
              "      <th>3</th>\n",
              "      <td>12.11.2021</td>\n",
              "      <td>117.60</td>\n",
              "    </tr>\n",
              "    <tr>\n",
              "      <th>4</th>\n",
              "      <td>11.11.2021</td>\n",
              "      <td>118.60</td>\n",
              "    </tr>\n",
              "  </tbody>\n",
              "</table>\n",
              "</div>"
            ],
            "text/plain": [
              "         Date   Price\n",
              "0  17.11.2021  118.30\n",
              "1  16.11.2021  117.76\n",
              "2  15.11.2021  117.67\n",
              "3  12.11.2021  117.60\n",
              "4  11.11.2021  118.60"
            ]
          },
          "metadata": {},
          "execution_count": 42
        }
      ]
    },
    {
      "cell_type": "code",
      "metadata": {
        "id": "ycBo6ZuwAVum"
      },
      "source": [
        "data = df.Price.values"
      ],
      "execution_count": 21,
      "outputs": []
    },
    {
      "cell_type": "code",
      "metadata": {
        "id": "d5z6cg5VCMn1"
      },
      "source": [
        "data= data.reshape(-1, 1)\n"
      ],
      "execution_count": 22,
      "outputs": []
    },
    {
      "cell_type": "code",
      "metadata": {
        "id": "X_BhliuMZpes"
      },
      "source": [
        "scaler = MinMaxScaler(feature_range=(0,1))"
      ],
      "execution_count": 23,
      "outputs": []
    },
    {
      "cell_type": "code",
      "metadata": {
        "id": "0T6HwBkcCLH0"
      },
      "source": [
        ""
      ],
      "execution_count": null,
      "outputs": []
    },
    {
      "cell_type": "code",
      "metadata": {
        "id": "L_fV9ZOFArHz"
      },
      "source": [
        "data = scaler.fit_transform(data)"
      ],
      "execution_count": 24,
      "outputs": []
    },
    {
      "cell_type": "code",
      "metadata": {
        "colab": {
          "base_uri": "https://localhost:8080/"
        },
        "id": "khDQKYqCAvs9",
        "outputId": "be128d6a-747e-4711-e9da-abf13c5be6c6"
      },
      "source": [
        "data[:10]"
      ],
      "execution_count": 25,
      "outputs": [
        {
          "output_type": "execute_result",
          "data": {
            "text/plain": [
              "array([[0.4209346 ],\n",
              "       [0.41766168],\n",
              "       [0.41711619],\n",
              "       [0.41669192],\n",
              "       [0.42275289],\n",
              "       [0.42372265],\n",
              "       [0.42523789],\n",
              "       [0.41123704],\n",
              "       [0.41335839],\n",
              "       [0.41044912]])"
            ]
          },
          "metadata": {},
          "execution_count": 25
        }
      ]
    },
    {
      "cell_type": "code",
      "metadata": {
        "id": "nDZPJuCUCU57"
      },
      "source": [
        "timestep = 5\n",
        "X = []\n",
        "Y = []\n",
        "for i in range(len(data)-(timestep)):\n",
        "    X.append(data[i:i+timestep])\n",
        "    Y.append(data[i+timestep])"
      ],
      "execution_count": 26,
      "outputs": []
    },
    {
      "cell_type": "code",
      "metadata": {
        "colab": {
          "base_uri": "https://localhost:8080/"
        },
        "id": "9D-vC7MACoP5",
        "outputId": "cde72229-5771-41be-93e4-8069d455a290"
      },
      "source": [
        "len(data)"
      ],
      "execution_count": 27,
      "outputs": [
        {
          "output_type": "execute_result",
          "data": {
            "text/plain": [
              "3113"
            ]
          },
          "metadata": {},
          "execution_count": 27
        }
      ]
    },
    {
      "cell_type": "code",
      "metadata": {
        "id": "ItzJ3EK4CoM7"
      },
      "source": [
        "X = np.asanyarray(X)\n",
        "X = X.reshape((X.shape[0],X.shape[1],1))"
      ],
      "execution_count": 28,
      "outputs": []
    },
    {
      "cell_type": "code",
      "metadata": {
        "colab": {
          "base_uri": "https://localhost:8080/"
        },
        "id": "8_EPBOz8CoIi",
        "outputId": "3ddb92a2-2652-4a01-f7ef-bff4112d799a"
      },
      "source": [
        "len(Y)"
      ],
      "execution_count": 29,
      "outputs": [
        {
          "output_type": "execute_result",
          "data": {
            "text/plain": [
              "3108"
            ]
          },
          "metadata": {},
          "execution_count": 29
        }
      ]
    },
    {
      "cell_type": "code",
      "metadata": {
        "id": "xW0Fdg7fCoGc"
      },
      "source": [
        "Y = np.asanyarray(Y)"
      ],
      "execution_count": 30,
      "outputs": []
    },
    {
      "cell_type": "code",
      "metadata": {
        "id": "Z2E-e8FiCoE-"
      },
      "source": [
        "k = int(0.7*len(Y))\n",
        "Xtrain = X[:k,:,:]\n",
        "Xtest = X[k:,:,:]"
      ],
      "execution_count": 31,
      "outputs": []
    },
    {
      "cell_type": "code",
      "metadata": {
        "id": "5-lf1zwCCoC1"
      },
      "source": [
        "Ytrain = Y[:k]\n",
        "Ytest = Y[k:]"
      ],
      "execution_count": 32,
      "outputs": []
    },
    {
      "cell_type": "code",
      "metadata": {
        "id": "8tnOZkglVz7W"
      },
      "source": [
        "from sklearn.model_selection import train_test_split\n",
        "X_train_rand, X_test_rand, y_train_rand, y_test_rand = train_test_split(X, Y, test_size=0.30, random_state=42)"
      ],
      "execution_count": 98,
      "outputs": []
    },
    {
      "cell_type": "markdown",
      "metadata": {
        "id": "sA9wQQE_WRFp"
      },
      "source": [
        "### Manuel seçilen train - test ###\n"
      ]
    },
    {
      "cell_type": "code",
      "metadata": {
        "id": "kASkAkxkCn-r"
      },
      "source": [
        "model = Sequential()\n",
        "model.add(LSTM(64,\n",
        "               batch_input_shape=(None,timestep,1),     \n",
        "               return_sequences=True))\n",
        "model.add(Dropout(0.2))\n",
        "model.add(LSTM(32,return_sequences=False))\n",
        "model.add(Dropout(0.2))\n",
        "model.add(Dense(1))\n",
        "model.compile(loss='mse', optimizer='rmsprop')"
      ],
      "execution_count": 33,
      "outputs": []
    },
    {
      "cell_type": "code",
      "metadata": {
        "colab": {
          "base_uri": "https://localhost:8080/"
        },
        "id": "eSZYEkdjDwX9",
        "outputId": "c323fe73-71d4-4119-f3ba-dafc84fd570e"
      },
      "source": [
        "model.summary()\n"
      ],
      "execution_count": 34,
      "outputs": [
        {
          "output_type": "stream",
          "name": "stdout",
          "text": [
            "Model: \"sequential\"\n",
            "_________________________________________________________________\n",
            " Layer (type)                Output Shape              Param #   \n",
            "=================================================================\n",
            " lstm (LSTM)                 (None, 5, 64)             16896     \n",
            "                                                                 \n",
            " dropout (Dropout)           (None, 5, 64)             0         \n",
            "                                                                 \n",
            " lstm_1 (LSTM)               (None, 32)                12416     \n",
            "                                                                 \n",
            " dropout_1 (Dropout)         (None, 32)                0         \n",
            "                                                                 \n",
            " dense (Dense)               (None, 1)                 33        \n",
            "                                                                 \n",
            "=================================================================\n",
            "Total params: 29,345\n",
            "Trainable params: 29,345\n",
            "Non-trainable params: 0\n",
            "_________________________________________________________________\n"
          ]
        }
      ]
    },
    {
      "cell_type": "code",
      "metadata": {
        "id": "iD9QeWgJDwWg"
      },
      "source": [
        "model.fit(Xtrain,\n",
        "          Ytrain,\n",
        "          batch_size=20,\n",
        "          validation_data=(Xtest,Ytest),\n",
        "          verbose=1,\n",
        "          epochs=30,\n",
        "          shuffle=False)"
      ],
      "execution_count": null,
      "outputs": []
    },
    {
      "cell_type": "code",
      "metadata": {
        "id": "xH14GSCfDwUb"
      },
      "source": [
        ""
      ],
      "execution_count": 40,
      "outputs": []
    },
    {
      "cell_type": "code",
      "metadata": {
        "colab": {
          "base_uri": "https://localhost:8080/",
          "height": 337
        },
        "id": "3KHdXag2DwOc",
        "outputId": "e8e8ac50-5673-4ca5-c41f-78c011b0976e"
      },
      "source": [
        "#rastgele başlangıc noktası seciliyor\n",
        "# Başlangıç Noktasından veriler alınır ve sırayla tahminleri hesaplanır.\n",
        "beg = random.randint(0,len(Ytest)-100)\n",
        "selected_input = Xtest[beg:beg+100,:,:]\n",
        "real_output = scaler.inverse_transform(Ytest[beg:beg+100])\n",
        "predicted_output = model.predict(selected_input, batch_size=1)\n",
        "predicted_output = scaler.inverse_transform(predicted_output)\n",
        "# Sonuçlar Grafik halinde gösterilir.\n",
        "print('Plotting Results')\n",
        "plt.figure(figsize=(12,5))\n",
        "xpos = range(len(predicted_output))\n",
        "plt.plot(xpos,real_output,'r',xpos,predicted_output,'b')\n",
        "plt.legend(('Real','Predicted'))\n",
        "plt.savefig('out.jpg',dpi=400)\n",
        "plt.show()\n",
        "\n",
        "\n",
        "\n"
      ],
      "execution_count": 95,
      "outputs": [
        {
          "output_type": "stream",
          "name": "stdout",
          "text": [
            "Plotting Results\n"
          ]
        },
        {
          "output_type": "display_data",
          "data": {
            "image/png": "[encoded data removed]",
            "text/plain": [
              "<Figure size 864x360 with 1 Axes>"
            ]
          },
          "metadata": {
            "needs_background": "light"
          }
        }
      ]
    },
    {
      "cell_type": "code",
      "metadata": {
        "colab": {
          "base_uri": "https://localhost:8080/",
          "height": 419
        },
        "id": "r9lsKfkbDwMx",
        "outputId": "57bdd29a-50cd-4e11-dcda-10750521a9a6"
      },
      "source": [
        "df_result = pd.DataFrame()\n",
        "df_r1 = pd.DataFrame(real_output, columns = ['real'])\n",
        "df_r2 = pd.DataFrame(predicted_output, columns = ['predicted'])\n",
        "df_result['Gerçek'] = df_r1['real']\n",
        "df_result['Tahmin'] = df_r2['predicted']\n",
        "df_result"
      ],
      "execution_count": 109,
      "outputs": [
        {
          "output_type": "execute_result",
          "data": {
            "text/html": [
              "<div>\n",
              "<style scoped>\n",
              "    .dataframe tbody tr th:only-of-type {\n",
              "        vertical-align: middle;\n",
              "    }\n",
              "\n",
              "    .dataframe tbody tr th {\n",
              "        vertical-align: top;\n",
              "    }\n",
              "\n",
              "    .dataframe thead th {\n",
              "        text-align: right;\n",
              "    }\n",
              "</style>\n",
              "<table border=\"1\" class=\"dataframe\">\n",
              "  <thead>\n",
              "    <tr style=\"text-align: right;\">\n",
              "      <th></th>\n",
              "      <th>Gerçek</th>\n",
              "      <th>Tahmin</th>\n",
              "    </tr>\n",
              "  </thead>\n",
              "  <tbody>\n",
              "    <tr>\n",
              "      <th>0</th>\n",
              "      <td>81.29</td>\n",
              "      <td>81.176422</td>\n",
              "    </tr>\n",
              "    <tr>\n",
              "      <th>1</th>\n",
              "      <td>107.34</td>\n",
              "      <td>107.732834</td>\n",
              "    </tr>\n",
              "    <tr>\n",
              "      <th>2</th>\n",
              "      <td>83.18</td>\n",
              "      <td>82.541672</td>\n",
              "    </tr>\n",
              "    <tr>\n",
              "      <th>3</th>\n",
              "      <td>68.49</td>\n",
              "      <td>68.955856</td>\n",
              "    </tr>\n",
              "    <tr>\n",
              "      <th>4</th>\n",
              "      <td>62.20</td>\n",
              "      <td>63.956406</td>\n",
              "    </tr>\n",
              "    <tr>\n",
              "      <th>...</th>\n",
              "      <td>...</td>\n",
              "      <td>...</td>\n",
              "    </tr>\n",
              "    <tr>\n",
              "      <th>95</th>\n",
              "      <td>69.27</td>\n",
              "      <td>68.729965</td>\n",
              "    </tr>\n",
              "    <tr>\n",
              "      <th>96</th>\n",
              "      <td>58.18</td>\n",
              "      <td>60.004818</td>\n",
              "    </tr>\n",
              "    <tr>\n",
              "      <th>97</th>\n",
              "      <td>97.56</td>\n",
              "      <td>96.198265</td>\n",
              "    </tr>\n",
              "    <tr>\n",
              "      <th>98</th>\n",
              "      <td>63.53</td>\n",
              "      <td>64.021500</td>\n",
              "    </tr>\n",
              "    <tr>\n",
              "      <th>99</th>\n",
              "      <td>67.60</td>\n",
              "      <td>67.793243</td>\n",
              "    </tr>\n",
              "  </tbody>\n",
              "</table>\n",
              "<p>100 rows × 2 columns</p>\n",
              "</div>"
            ],
            "text/plain": [
              "    Gerçek      Tahmin\n",
              "0    81.29   81.176422\n",
              "1   107.34  107.732834\n",
              "2    83.18   82.541672\n",
              "3    68.49   68.955856\n",
              "4    62.20   63.956406\n",
              "..     ...         ...\n",
              "95   69.27   68.729965\n",
              "96   58.18   60.004818\n",
              "97   97.56   96.198265\n",
              "98   63.53   64.021500\n",
              "99   67.60   67.793243\n",
              "\n",
              "[100 rows x 2 columns]"
            ]
          },
          "metadata": {},
          "execution_count": 109
        }
      ]
    },
    {
      "cell_type": "markdown",
      "metadata": {
        "id": "yARYZd7PWhAa"
      },
      "source": [
        "##Ratgele Secilen train test ##"
      ]
    },
    {
      "cell_type": "code",
      "metadata": {
        "id": "2Mr6fzSQWmBy"
      },
      "source": [
        "model.fit(X_train_rand,\n",
        "          y_train_rand,\n",
        "          batch_size=20,\n",
        "          validation_data=(X_test_rand,y_test_rand),\n",
        "          verbose=1,\n",
        "          epochs=30,\n",
        "          shuffle=False)\n",
        "\n"
      ],
      "execution_count": null,
      "outputs": []
    },
    {
      "cell_type": "code",
      "metadata": {
        "colab": {
          "base_uri": "https://localhost:8080/",
          "height": 337
        },
        "id": "K1xBGYfrXZMi",
        "outputId": "d9705aa8-bc3e-40c2-a6bc-6e3e69230a10"
      },
      "source": [
        "beg = random.randint(0,len(y_test_rand)-100)\n",
        "selected_input = X_test_rand[beg:beg+100,:,:]\n",
        "real_output = scaler.inverse_transform(y_test_rand[beg:beg+100])\n",
        "predicted_output = model.predict(selected_input, batch_size=1)\n",
        "predicted_output = scaler.inverse_transform(predicted_output)\n",
        "# Sonuçlar Grafik halinde gösterilir.\n",
        "print('Plotting Results')\n",
        "plt.figure(figsize=(12,5))\n",
        "xpos = range(len(predicted_output))\n",
        "plt.plot(xpos,real_output,'r',xpos,predicted_output,'b')\n",
        "plt.legend(('Real','Predicted'))\n",
        "plt.savefig('out.jpg',dpi=400)\n",
        "plt.show()"
      ],
      "execution_count": 108,
      "outputs": [
        {
          "output_type": "stream",
          "name": "stdout",
          "text": [
            "Plotting Results\n"
          ]
        },
        {
          "output_type": "display_data",
          "data": {
            "image/png": "[encoded data removed]",
            "text/plain": [
              "<Figure size 864x360 with 1 Axes>"
            ]
          },
          "metadata": {
            "needs_background": "light"
          }
        }
      ]
    },
    {
      "cell_type": "code",
      "metadata": {
        "colab": {
          "base_uri": "https://localhost:8080/",
          "height": 419
        },
        "id": "NrfERQKFYNCR",
        "outputId": "04b30cbb-ddcc-471f-eaa2-caf94443f95c"
      },
      "source": [
        "df_result = pd.DataFrame()\n",
        "df_r1 = pd.DataFrame(real_output, columns = ['real'])\n",
        "df_r2 = pd.DataFrame(predicted_output, columns = ['predicted'])\n",
        "df_result['Gerçek'] = df_r1['real']\n",
        "df_result['Tahmin'] = df_r2['predicted']\n",
        "df_result"
      ],
      "execution_count": 104,
      "outputs": [
        {
          "output_type": "execute_result",
          "data": {
            "text/html": [
              "<div>\n",
              "<style scoped>\n",
              "    .dataframe tbody tr th:only-of-type {\n",
              "        vertical-align: middle;\n",
              "    }\n",
              "\n",
              "    .dataframe tbody tr th {\n",
              "        vertical-align: top;\n",
              "    }\n",
              "\n",
              "    .dataframe thead th {\n",
              "        text-align: right;\n",
              "    }\n",
              "</style>\n",
              "<table border=\"1\" class=\"dataframe\">\n",
              "  <thead>\n",
              "    <tr style=\"text-align: right;\">\n",
              "      <th></th>\n",
              "      <th>Gerçek</th>\n",
              "      <th>Tahmin</th>\n",
              "    </tr>\n",
              "  </thead>\n",
              "  <tbody>\n",
              "    <tr>\n",
              "      <th>0</th>\n",
              "      <td>63.83</td>\n",
              "      <td>63.803936</td>\n",
              "    </tr>\n",
              "    <tr>\n",
              "      <th>1</th>\n",
              "      <td>58.35</td>\n",
              "      <td>58.548008</td>\n",
              "    </tr>\n",
              "    <tr>\n",
              "      <th>2</th>\n",
              "      <td>79.20</td>\n",
              "      <td>77.411835</td>\n",
              "    </tr>\n",
              "    <tr>\n",
              "      <th>3</th>\n",
              "      <td>76.91</td>\n",
              "      <td>77.201744</td>\n",
              "    </tr>\n",
              "    <tr>\n",
              "      <th>4</th>\n",
              "      <td>59.75</td>\n",
              "      <td>60.917637</td>\n",
              "    </tr>\n",
              "    <tr>\n",
              "      <th>...</th>\n",
              "      <td>...</td>\n",
              "      <td>...</td>\n",
              "    </tr>\n",
              "    <tr>\n",
              "      <th>95</th>\n",
              "      <td>88.09</td>\n",
              "      <td>86.408745</td>\n",
              "    </tr>\n",
              "    <tr>\n",
              "      <th>96</th>\n",
              "      <td>73.86</td>\n",
              "      <td>73.031273</td>\n",
              "    </tr>\n",
              "    <tr>\n",
              "      <th>97</th>\n",
              "      <td>62.96</td>\n",
              "      <td>63.290325</td>\n",
              "    </tr>\n",
              "    <tr>\n",
              "      <th>98</th>\n",
              "      <td>62.29</td>\n",
              "      <td>63.926548</td>\n",
              "    </tr>\n",
              "    <tr>\n",
              "      <th>99</th>\n",
              "      <td>64.35</td>\n",
              "      <td>63.908638</td>\n",
              "    </tr>\n",
              "  </tbody>\n",
              "</table>\n",
              "<p>100 rows × 2 columns</p>\n",
              "</div>"
            ],
            "text/plain": [
              "    Gerçek     Tahmin\n",
              "0    63.83  63.803936\n",
              "1    58.35  58.548008\n",
              "2    79.20  77.411835\n",
              "3    76.91  77.201744\n",
              "4    59.75  60.917637\n",
              "..     ...        ...\n",
              "95   88.09  86.408745\n",
              "96   73.86  73.031273\n",
              "97   62.96  63.290325\n",
              "98   62.29  63.926548\n",
              "99   64.35  63.908638\n",
              "\n",
              "[100 rows x 2 columns]"
            ]
          },
          "metadata": {},
          "execution_count": 104
        }
      ]
    }
  ]
}